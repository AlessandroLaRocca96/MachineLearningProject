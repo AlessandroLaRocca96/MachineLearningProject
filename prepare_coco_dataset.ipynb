{
  "nbformat": 4,
  "nbformat_minor": 0,
  "metadata": {
    "colab": {
      "name": "Progetto.ipynb",
      "provenance": [],
      "collapsed_sections": []
    },
    "kernelspec": {
      "name": "python3",
      "display_name": "Python 3"
    },
    "language_info": {
      "name": "python"
    }
  },
  "cells": [
    {
      "cell_type": "code",
      "metadata": {
        "id": "HE7zqa2NSwiJ"
      },
      "source": [
        "def listToString(s): \n",
        "    # initialize an empty string\n",
        "    str1 = \"\" \n",
        "    # traverse in the string  \n",
        "    for ele in s: \n",
        "        str1 += ele+\"\\n\"  \n",
        "    # return string  \n",
        "    return str1 "
      ],
      "execution_count": 12,
      "outputs": []
    },
    {
      "cell_type": "code",
      "metadata": {
        "id": "C8In7D3qvIyy"
      },
      "source": [
        "from pycocotools.coco import COCO\n",
        "import numpy as np"
      ],
      "execution_count": 7,
      "outputs": []
    },
    {
      "cell_type": "code",
      "metadata": {
        "id": "uLV3oIHUAwtM",
        "colab": {
          "base_uri": "https://localhost:8080/"
        },
        "outputId": "8c4f135c-cf41-4920-ccc9-c1d4469edadf"
      },
      "source": [
        "instances_ds = \"/content/instances_val2017.json\" # File con tutte le categorie\n",
        "coco_instances = COCO(instances_ds)"
      ],
      "execution_count": 8,
      "outputs": [
        {
          "output_type": "stream",
          "text": [
            "loading annotations into memory...\n",
            "Done (t=0.73s)\n",
            "creating index...\n",
            "index created!\n"
          ],
          "name": "stdout"
        }
      ]
    },
    {
      "cell_type": "code",
      "metadata": {
        "id": "l25fT4WXK9F1"
      },
      "source": [
        "categories = coco_instances.loadCats(coco_instances.getCatIds()) # Prendo tutte le categorie\n",
        "categories_list = [cat[\"name\"] for cat in categories]\n",
        "print (\"Coco categories: \\n{}\\n\".format(' '.join(categories_list)))\n",
        "categories_file = open (\"categories.txt\", \"a\")\n",
        "print (listToString(categories_list))\n",
        "categories_file.write(listToString(categories_list))\n"
      ],
      "execution_count": null,
      "outputs": []
    },
    {
      "cell_type": "code",
      "metadata": {
        "colab": {
          "base_uri": "https://localhost:8080/"
        },
        "id": "Ex7BI-D-NuOJ",
        "outputId": "45beb5fb-07b7-4c01-c490-6a16ddfa8404"
      },
      "source": [
        "#Prendo tutte le supercategorie\n",
        "supercategories_list = set([cat[\"supercategory\"] for cat in categories])\n",
        "print('COCO supercategories: \\n{}'.format(' '.join(supercategories_list)))\n",
        "\n",
        "supercategories_file = open(\"supercategories.txt\", \"a\")\n",
        "supercategories_file.write (listToString(supercategories_list))"
      ],
      "execution_count": 17,
      "outputs": [
        {
          "output_type": "stream",
          "text": [
            "COCO supercategories: \n",
            "electronic animal sports food vehicle kitchen person appliance indoor furniture accessory outdoor\n"
          ],
          "name": "stdout"
        },
        {
          "output_type": "execute_result",
          "data": {
            "text/plain": [
              "98"
            ]
          },
          "metadata": {
            "tags": []
          },
          "execution_count": 17
        }
      ]
    },
    {
      "cell_type": "code",
      "metadata": {
        "colab": {
          "base_uri": "https://localhost:8080/"
        },
        "id": "gc5pNVCDPQSZ",
        "outputId": "5e709335-7c04-4589-e460-2c6cc4c89d54"
      },
      "source": [
        "#File con tutte le captions\n",
        "captions_ds = \"/content/captions_val2017.json\"\n",
        "coco_captions = COCO(captions_ds)"
      ],
      "execution_count": 18,
      "outputs": [
        {
          "output_type": "stream",
          "text": [
            "loading annotations into memory...\n",
            "Done (t=0.05s)\n",
            "creating index...\n",
            "index created!\n"
          ],
          "name": "stdout"
        }
      ]
    },
    {
      "cell_type": "code",
      "metadata": {
        "id": "gMA-AUwDQ0YW"
      },
      "source": [
        "captions_file = open (\"captions.txt\", \"a\")\n",
        "for ann in coco_instances.getImgIds():\n",
        "  img = coco_instances.loadImgs(ann)\n",
        "  captionId = coco_captions.getAnnIds(imgIds = ann)\n",
        "  caption = coco_captions.loadAnns(captionId)\n",
        "  captions_file.write(caption[2][\"caption\"]+\"\\n\")\n",
        "\n",
        "\n"
      ],
      "execution_count": 22,
      "outputs": []
    }
  ]
}